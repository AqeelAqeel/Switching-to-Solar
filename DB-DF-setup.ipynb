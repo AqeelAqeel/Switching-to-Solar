{
 "cells": [
  {
   "cell_type": "code",
   "execution_count": 1,
   "id": "921ad6fb",
   "metadata": {},
   "outputs": [],
   "source": [
    "import scipy.stats as sc\n",
    "import pandas as pd\n",
    "import numpy as np\n",
    "import matplotlib.pyplot as plt\n"
   ]
  },
  {
   "cell_type": "code",
   "execution_count": 2,
   "id": "8686bd96",
   "metadata": {},
   "outputs": [],
   "source": [
    "import pyspark as ps    # for the pyspark suite\n",
    "spark = ps.sql.SparkSession.builder \\\n",
    "            .master(\"local[4]\") \\\n",
    "            .appName(\"Switching to Solar\") \\\n",
    "            .getOrCreate()\n",
    "sc = spark.sparkContext\n",
    "spark.conf.set(\"spark.sql.caseSensitive\", \"true\")"
   ]
  },
  {
   "cell_type": "code",
   "execution_count": 3,
   "id": "2947c8b3",
   "metadata": {},
   "outputs": [
    {
     "name": "stdout",
     "output_type": "stream",
     "text": [
      "root\n",
      " |-- Retail sales of electricity Texas monthly: string (nullable = true)\n",
      "\n"
     ]
    }
   ],
   "source": [
    "electricity_sales_tx = spark.read.option(\"header\", True).csv('data/Retail_sales_of_electricity_Texas_monthly.csv')\n",
    "electricity_sales_tx.createOrReplaceTempView(\"TX_electricity_sales\")\n",
    "electricity_sales_tx.printSchema()"
   ]
  },
  {
   "cell_type": "code",
   "execution_count": 4,
   "id": "cc1d301c",
   "metadata": {},
   "outputs": [
    {
     "name": "stdout",
     "output_type": "stream",
     "text": [
      "+-----------------------------------------+\n",
      "|Retail sales of electricity Texas monthly|\n",
      "+-----------------------------------------+\n",
      "|                     https://www.eia.g...|\n",
      "|                     16:29:52 GMT-0700...|\n",
      "|                     Data source: U.S....|\n",
      "|                                    Month|\n",
      "|                                 Mar 2021|\n",
      "|                                 Feb 2021|\n",
      "|                                 Jan 2021|\n",
      "|                                 Dec 2020|\n",
      "|                                 Nov 2020|\n",
      "|                                 Oct 2020|\n",
      "|                                 Sep 2020|\n",
      "|                                 Aug 2020|\n",
      "|                                 Jul 2020|\n",
      "|                                 Jun 2020|\n",
      "|                                 May 2020|\n",
      "|                                 Apr 2020|\n",
      "|                                 Mar 2020|\n",
      "|                                 Feb 2020|\n",
      "|                                 Jan 2020|\n",
      "|                                 Dec 2019|\n",
      "+-----------------------------------------+\n",
      "only showing top 20 rows\n",
      "\n"
     ]
    }
   ],
   "source": [
    "electricity_sales_tx.show()"
   ]
  },
  {
   "cell_type": "code",
   "execution_count": 5,
   "id": "06b6dede",
   "metadata": {},
   "outputs": [],
   "source": [
    "#  electricity_sales_tx.select(\"residential million kilowatthours\").show() "
   ]
  },
  {
   "cell_type": "code",
   "execution_count": 6,
   "id": "c7bca5da",
   "metadata": {
    "scrolled": true
   },
   "outputs": [
    {
     "ename": "TypeError",
     "evalue": "'list' object is not callable",
     "output_type": "error",
     "traceback": [
      "\u001b[0;31m---------------------------------------------------------------------------\u001b[0m",
      "\u001b[0;31mTypeError\u001b[0m                                 Traceback (most recent call last)",
      "\u001b[0;32m<ipython-input-6-5d94635f26db>\u001b[0m in \u001b[0;36m<module>\u001b[0;34m\u001b[0m\n\u001b[0;32m----> 1\u001b[0;31m \u001b[0melectricity_sales_tx\u001b[0m\u001b[0;34m.\u001b[0m\u001b[0mcolumns\u001b[0m\u001b[0;34m(\u001b[0m\u001b[0;34m)\u001b[0m\u001b[0;34m\u001b[0m\u001b[0;34m\u001b[0m\u001b[0m\n\u001b[0m",
      "\u001b[0;31mTypeError\u001b[0m: 'list' object is not callable"
     ]
    }
   ],
   "source": [
    "# electricity_sales_tx.columns()"
   ]
  },
  {
   "cell_type": "code",
   "execution_count": 8,
   "id": "01aab114",
   "metadata": {
    "scrolled": true
   },
   "outputs": [],
   "source": [
    "# query1 = ('''\n",
    "#          SELECT residential_million_kilowatthours\n",
    "#          FROM electricity_sales_tx.select\n",
    "#          LIMIT 20;\n",
    "#          ''')\n",
    "\n",
    "# result1 = spark.sql(query1)\n",
    "# result1.show()"
   ]
  },
  {
   "cell_type": "code",
   "execution_count": null,
   "id": "4d14939e",
   "metadata": {},
   "outputs": [],
   "source": []
  },
  {
   "cell_type": "code",
   "execution_count": 12,
   "id": "42505be6",
   "metadata": {},
   "outputs": [],
   "source": [
    "import pyspark as ps\n",
    "spark = ps.sql.SparkSession.builder.getOrCreate()\n",
    "sc = spark.sparkContext"
   ]
  },
  {
   "cell_type": "code",
   "execution_count": 15,
   "id": "8c156810",
   "metadata": {},
   "outputs": [
    {
     "name": "stdout",
     "output_type": "stream",
     "text": [
      "root\n",
      " |-- data_provider_1: string (nullable = true)\n",
      " |-- data_provider_2: string (nullable = true)\n",
      " |-- system_ID_1: string (nullable = true)\n",
      " |-- system_ID_2: string (nullable = true)\n",
      " |-- installation_date: string (nullable = true)\n",
      " |-- system_size_DC: string (nullable = true)\n",
      " |-- total_installed_price: string (nullable = true)\n",
      " |-- rebate_or_grant: string (nullable = true)\n",
      " |-- customer_segment: string (nullable = true)\n",
      " |-- expansion_system: string (nullable = true)\n",
      " |-- multiple_phase_system: string (nullable = true)\n",
      " |-- new_construction: string (nullable = true)\n",
      " |-- tracking: string (nullable = true)\n",
      " |-- ground_mounted: string (nullable = true)\n",
      " |-- zip_code: string (nullable = true)\n",
      " |-- city: string (nullable = true)\n",
      " |-- state: string (nullable = true)\n",
      " |-- utility_service_territory: string (nullable = true)\n",
      " |-- third_party_owned: string (nullable = true)\n",
      " |-- installer_name: string (nullable = true)\n",
      " |-- self_installed: string (nullable = true)\n",
      " |-- azimuth_1: string (nullable = true)\n",
      " |-- azimuth_2: string (nullable = true)\n",
      " |-- azimuth_3: string (nullable = true)\n",
      " |-- tilt_1: string (nullable = true)\n",
      " |-- tilt_2: string (nullable = true)\n",
      " |-- tilt_3: string (nullable = true)\n",
      " |-- module_manufacturer_1: string (nullable = true)\n",
      " |-- module_model_1: string (nullable = true)\n",
      " |-- module_quantity_1: string (nullable = true)\n",
      " |-- module_manufacturer_2: string (nullable = true)\n",
      " |-- module_model_2: string (nullable = true)\n",
      " |-- module_quantity_2: string (nullable = true)\n",
      " |-- module_manufacturer_3: string (nullable = true)\n",
      " |-- module_model_3: string (nullable = true)\n",
      " |-- module_quantity_3: string (nullable = true)\n",
      " |-- additional_modules: string (nullable = true)\n",
      " |-- technology_module_1: string (nullable = true)\n",
      " |-- technology_module_2: string (nullable = true)\n",
      " |-- technology_module_3: string (nullable = true)\n",
      " |-- BIPV_module_1: string (nullable = true)\n",
      " |-- BIPV_module_2: string (nullable = true)\n",
      " |-- BIPV_module_3: string (nullable = true)\n",
      " |-- bifacial_module_1: string (nullable = true)\n",
      " |-- bifacial_module_2: string (nullable = true)\n",
      " |-- bifacial_module_3: string (nullable = true)\n",
      " |-- nameplate_capacity_module_1: string (nullable = true)\n",
      " |-- nameplate_capacity_module_2: string (nullable = true)\n",
      " |-- nameplate_capacity_module_3: string (nullable = true)\n",
      " |-- efficiency_module_1: string (nullable = true)\n",
      " |-- efficiency_module_2: string (nullable = true)\n",
      " |-- efficiency_module_3: string (nullable = true)\n",
      " |-- inverter_manufacturer_1: string (nullable = true)\n",
      " |-- inverter_model_1: string (nullable = true)\n",
      " |-- inverter_quantity_1: string (nullable = true)\n",
      " |-- inverter_manufacturer_2: string (nullable = true)\n",
      " |-- inverter_model_2: string (nullable = true)\n",
      " |-- inverter_quantity_2: string (nullable = true)\n",
      " |-- inverter_manufacturer_3: string (nullable = true)\n",
      " |-- inverter_model_3: string (nullable = true)\n",
      " |-- inverter_quantity_3: string (nullable = true)\n",
      " |-- additional_inverters: string (nullable = true)\n",
      " |-- micro_inverter_1: string (nullable = true)\n",
      " |-- micro_inverter_2: string (nullable = true)\n",
      " |-- micro_inverter_3: string (nullable = true)\n",
      " |-- solar_storage_hybrid_inverter_1: string (nullable = true)\n",
      " |-- solar_storage_hybrid_inverter_2: string (nullable = true)\n",
      " |-- solar_storage_hybrid_inverter_3: string (nullable = true)\n",
      " |-- built_in_meter_inverter_1: string (nullable = true)\n",
      " |-- built_in_meter_inverter_2: string (nullable = true)\n",
      " |-- built_in_meter_inverter_3: string (nullable = true)\n",
      " |-- output_capacity_inverter_1: string (nullable = true)\n",
      " |-- output_capacity_inverter_2: string (nullable = true)\n",
      " |-- output_capacity_inverter_3: string (nullable = true)\n",
      " |-- DC_optimizer: string (nullable = true)\n",
      " |-- inverter_loading_ratio: string (nullable = true)\n",
      " |-- battery_rated_capacity_kW: string (nullable = true)\n",
      " |-- battery_rated_capacity_kWh: string (nullable = true)\n",
      "\n"
     ]
    }
   ],
   "source": [
    "dff = spark.read.option(\"header\", True).csv('data/solar_demograpics.csv')\n",
    "\n",
    "# dff.head()\n",
    "dff.printSchema()"
   ]
  },
  {
   "cell_type": "code",
   "execution_count": 18,
   "id": "7c8dda2f",
   "metadata": {},
   "outputs": [],
   "source": [
    "dff.createOrReplaceTempView(\"dfff\")"
   ]
  },
  {
   "cell_type": "code",
   "execution_count": 29,
   "id": "e0738059",
   "metadata": {},
   "outputs": [
    {
     "name": "stdout",
     "output_type": "stream",
     "text": [
      "+--------------------+--------------+-----+\n",
      "|   installation_date|          city|state|\n",
      "+--------------------+--------------+-----+\n",
      "|31-Oct-2019 00:00:00|     SAN DIEGO|   CA|\n",
      "|31-Oct-2019 00:00:00|CORONA DEL MAR|   CA|\n",
      "|31-Oct-2019 00:00:00|     FULLERTON|   CA|\n",
      "|31-Oct-2019 00:00:00|     CAMARILLO|   CA|\n",
      "|31-Oct-2019 00:00:00|  WALNUT CREEK|   CA|\n",
      "|31-Oct-2019 00:00:00|     PARAMOUNT|   CA|\n",
      "|31-Oct-2019 00:00:00|      WOODLAND|   CA|\n",
      "|31-Oct-2019 00:00:00|      SAN JOSE|   CA|\n",
      "|31-Oct-2019 00:00:00|   BAKERSFIELD|   CA|\n",
      "|31-Oct-2019 00:00:00|    SAN MARCOS|   CA|\n",
      "|31-Oct-2019 00:00:00|   BAKERSFIELD|   CA|\n",
      "|31-Oct-2019 00:00:00|     FAIRFIELD|   CA|\n",
      "|31-Oct-2019 00:00:00|       LINCOLN|   CA|\n",
      "|31-Oct-2019 00:00:00|     ESCONDIDO|   CA|\n",
      "|31-Oct-2019 00:00:00|        MADERA|   CA|\n",
      "|31-Oct-2019 00:00:00|       OAKDALE|   CA|\n",
      "|31-Oct-2019 00:00:00|SAN BERNARDINO|   CA|\n",
      "|31-Oct-2019 00:00:00|WEST HOLLYWOOD|   CA|\n",
      "|31-Oct-2019 00:00:00|      SAN JOSE|   CA|\n",
      "|31-Oct-2019 00:00:00|     SAN DIEGO|   CA|\n",
      "+--------------------+--------------+-----+\n",
      "only showing top 20 rows\n",
      "\n"
     ]
    }
   ],
   "source": [
    "query1 = ('''\n",
    "         SELECT installation_date, city, state\n",
    "         FROM dfff\n",
    "         WHERE dfff.installation_date LIKE \"%2019\"\n",
    "         ORDER BY dfff.installation_date DESC\n",
    "         LIMIT 100;\n",
    "         \n",
    "         ''')\n",
    "\n",
    "result1 = spark.sql(query1)\n",
    "result1.show()"
   ]
  },
  {
   "cell_type": "code",
   "execution_count": 21,
   "id": "ef1d3c54",
   "metadata": {},
   "outputs": [
    {
     "data": {
      "text/plain": [
       "[Row(installation_date='29-Apr-2010 00:00:00', city='Mena', state='AR'),\n",
       " Row(installation_date='26-Apr-2010 00:00:00', city='Jasper', state='AR'),\n",
       " Row(installation_date='20-Apr-2010 00:00:00', city='Hope', state='AR'),\n",
       " Row(installation_date='21-Apr-2010 00:00:00', city='Hot Springs Village', state='AR'),\n",
       " Row(installation_date='22-Apr-2010 00:00:00', city='Hot Springs Village', state='AR')]"
      ]
     },
     "execution_count": 21,
     "metadata": {},
     "output_type": "execute_result"
    }
   ],
   "source": [
    "result1.toPandas()\n",
    "result1.head(5)"
   ]
  },
  {
   "cell_type": "code",
   "execution_count": null,
   "id": "7bcb6728",
   "metadata": {},
   "outputs": [],
   "source": []
  }
 ],
 "metadata": {
  "kernelspec": {
   "display_name": "Python 3",
   "language": "python",
   "name": "python3"
  },
  "language_info": {
   "codemirror_mode": {
    "name": "ipython",
    "version": 3
   },
   "file_extension": ".py",
   "mimetype": "text/x-python",
   "name": "python",
   "nbconvert_exporter": "python",
   "pygments_lexer": "ipython3",
   "version": "3.8.10"
  }
 },
 "nbformat": 4,
 "nbformat_minor": 5
}
